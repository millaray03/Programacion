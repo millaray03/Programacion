{
 "cells": [
  {
   "attachments": {},
   "cell_type": "markdown",
   "metadata": {},
   "source": [
    "ANALISIS DE DATASET DE VIDEOJUEGOS POPULARES DE 1980 A 2023 "
   ]
  },
  {
   "cell_type": "code",
   "execution_count": 41,
   "metadata": {},
   "outputs": [],
   "source": [
    "import pandas as pd \n",
    "import numpy as np \n",
    "import matplotlib.pyplot as plt "
   ]
  },
  {
   "attachments": {},
   "cell_type": "markdown",
   "metadata": {},
   "source": [
    "INICIALIZANDO EL DATAFRAME "
   ]
  },
  {
   "cell_type": "code",
   "execution_count": 42,
   "metadata": {},
   "outputs": [
    {
     "data": {
      "text/plain": [
       "<bound method NDFrame.head of                                         Title  Release Date  \\\n",
       "Id                                                            \n",
       "0                                  Elden Ring  Feb 25, 2022   \n",
       "1                                       Hades  Dec 10, 2019   \n",
       "2     The Legend of Zelda: Breath of the Wild  Mar 03, 2017   \n",
       "3                                   Undertale  Sep 15, 2015   \n",
       "4                               Hollow Knight  Feb 24, 2017   \n",
       "...                                       ...           ...   \n",
       "1507             Back to the Future: The Game  Dec 22, 2010   \n",
       "1508                        Team Sonic Racing  May 21, 2019   \n",
       "1509                           Dragon's Dogma  May 22, 2012   \n",
       "1510                          Baldur's Gate 3  Oct 06, 2020   \n",
       "1511                 The LEGO Movie Videogame  Feb 04, 2014   \n",
       "\n",
       "                                                   Team  Rating Times Listed  \\\n",
       "Id                                                                             \n",
       "0        ['Bandai Namco Entertainment', 'FromSoftware']     4.5         3.9K   \n",
       "1                                  ['Supergiant Games']     4.3         2.9K   \n",
       "2     ['Nintendo', 'Nintendo EPD Production Group No...     4.4         4.3K   \n",
       "3                                    ['tobyfox', '8-4']     4.2         3.5K   \n",
       "4                                       ['Team Cherry']     4.4           3K   \n",
       "...                                                 ...     ...          ...   \n",
       "1507                                 ['Telltale Games']     3.2           94   \n",
       "1508                           ['Sumo Digital', 'Sega']     2.9          264   \n",
       "1509                                         ['Capcom']     3.7          210   \n",
       "1510                                 ['Larian Studios']     4.1          165   \n",
       "1511                          ['WB Games', 'TT Fusion']     2.8          184   \n",
       "\n",
       "     Number of Reviews                                             Genres  \\\n",
       "Id                                                                          \n",
       "0                 3.9K                               ['Adventure', 'RPG']   \n",
       "1                 2.9K           ['Adventure', 'Brawler', 'Indie', 'RPG']   \n",
       "2                 4.3K                               ['Adventure', 'RPG']   \n",
       "3                 3.5K  ['Adventure', 'Indie', 'RPG', 'Turn Based Stra...   \n",
       "4                   3K                 ['Adventure', 'Indie', 'Platform']   \n",
       "...                ...                                                ...   \n",
       "1507                94                   ['Adventure', 'Point-and-Click']   \n",
       "1508               264                               ['Arcade', 'Racing']   \n",
       "1509               210                                 ['Brawler', 'RPG']   \n",
       "1510               165  ['Adventure', 'RPG', 'Strategy', 'Tactical', '...   \n",
       "1511               184                            ['Adventure', 'Puzzle']   \n",
       "\n",
       "                                                Summary  \\\n",
       "Id                                                        \n",
       "0     Elden Ring is a fantasy, action and open world...   \n",
       "1     A rogue-lite hack and slash dungeon crawler in...   \n",
       "2     The Legend of Zelda: Breath of the Wild is the...   \n",
       "3     A small child falls into the Underground, wher...   \n",
       "4     A 2D metroidvania with an emphasis on close co...   \n",
       "...                                                 ...   \n",
       "1507  Back to the Future: The Game is one of Telltal...   \n",
       "1508  Team Sonic Racing combines the best elements o...   \n",
       "1509  Set in a huge open world, Dragon’s Dogma: Dark...   \n",
       "1510  An ancient evil has returned to Baldur's Gate,...   \n",
       "1511  Join Emmet and an unlikely group of resistance...   \n",
       "\n",
       "                                                Reviews Plays Playing  \\\n",
       "Id                                                                      \n",
       "0     [\"The first playthrough of elden ring is one o...   17K    3.8K   \n",
       "1     ['convinced this is a roguelike for people who...   21K    3.2K   \n",
       "2     ['This game is the game (that is not CS:GO) th...   30K    2.5K   \n",
       "3     ['soundtrack is tied for #1 with nier automata...   28K     679   \n",
       "4     [\"this games worldbuilding is incredible, with...   21K    2.4K   \n",
       "...                                                 ...   ...     ...   \n",
       "1507  ['Very enjoyable game. The story adds onto the...   763       5   \n",
       "1508  ['jogo morto mas bom', 'not my cup of tea', \"C...  1.5K      49   \n",
       "1509  ['Underrated.', 'A grandes rasgos, es como un ...  1.1K      45   \n",
       "1510  ['Bu türe bu oyunla girmeye çalışmak hataydı s...   269      79   \n",
       "1511  ['Legal', 'Pretty Average Lego Game But It Was...  1.7K      11   \n",
       "\n",
       "     Backlogs Wishlist  \n",
       "Id                      \n",
       "0        4.6K     4.8K  \n",
       "1        6.3K     3.6K  \n",
       "2          5K     2.6K  \n",
       "3        4.9K     1.8K  \n",
       "4        8.3K     2.3K  \n",
       "...       ...      ...  \n",
       "1507      223       67  \n",
       "1508      413      107  \n",
       "1509      487      206  \n",
       "1510      388      602  \n",
       "1511      239       73  \n",
       "\n",
       "[1512 rows x 13 columns]>"
      ]
     },
     "execution_count": 42,
     "metadata": {},
     "output_type": "execute_result"
    }
   ],
   "source": [
    "datos = pd.read_csv(\"data/games.csv\", index_col=\"Id\")\n",
    "datos.head"
   ]
  },
  {
   "attachments": {},
   "cell_type": "markdown",
   "metadata": {},
   "source": [
    "mostrando las filas de datos nulos "
   ]
  },
  {
   "cell_type": "code",
   "execution_count": 43,
   "metadata": {},
   "outputs": [
    {
     "data": {
      "text/plain": [
       "<bound method DataFrame.isnull of                                         Title  Release Date  \\\n",
       "Id                                                            \n",
       "0                                  Elden Ring  Feb 25, 2022   \n",
       "1                                       Hades  Dec 10, 2019   \n",
       "2     The Legend of Zelda: Breath of the Wild  Mar 03, 2017   \n",
       "3                                   Undertale  Sep 15, 2015   \n",
       "4                               Hollow Knight  Feb 24, 2017   \n",
       "...                                       ...           ...   \n",
       "1507             Back to the Future: The Game  Dec 22, 2010   \n",
       "1508                        Team Sonic Racing  May 21, 2019   \n",
       "1509                           Dragon's Dogma  May 22, 2012   \n",
       "1510                          Baldur's Gate 3  Oct 06, 2020   \n",
       "1511                 The LEGO Movie Videogame  Feb 04, 2014   \n",
       "\n",
       "                                                   Team  Rating Times Listed  \\\n",
       "Id                                                                             \n",
       "0        ['Bandai Namco Entertainment', 'FromSoftware']     4.5         3.9K   \n",
       "1                                  ['Supergiant Games']     4.3         2.9K   \n",
       "2     ['Nintendo', 'Nintendo EPD Production Group No...     4.4         4.3K   \n",
       "3                                    ['tobyfox', '8-4']     4.2         3.5K   \n",
       "4                                       ['Team Cherry']     4.4           3K   \n",
       "...                                                 ...     ...          ...   \n",
       "1507                                 ['Telltale Games']     3.2           94   \n",
       "1508                           ['Sumo Digital', 'Sega']     2.9          264   \n",
       "1509                                         ['Capcom']     3.7          210   \n",
       "1510                                 ['Larian Studios']     4.1          165   \n",
       "1511                          ['WB Games', 'TT Fusion']     2.8          184   \n",
       "\n",
       "     Number of Reviews                                             Genres  \\\n",
       "Id                                                                          \n",
       "0                 3.9K                               ['Adventure', 'RPG']   \n",
       "1                 2.9K           ['Adventure', 'Brawler', 'Indie', 'RPG']   \n",
       "2                 4.3K                               ['Adventure', 'RPG']   \n",
       "3                 3.5K  ['Adventure', 'Indie', 'RPG', 'Turn Based Stra...   \n",
       "4                   3K                 ['Adventure', 'Indie', 'Platform']   \n",
       "...                ...                                                ...   \n",
       "1507                94                   ['Adventure', 'Point-and-Click']   \n",
       "1508               264                               ['Arcade', 'Racing']   \n",
       "1509               210                                 ['Brawler', 'RPG']   \n",
       "1510               165  ['Adventure', 'RPG', 'Strategy', 'Tactical', '...   \n",
       "1511               184                            ['Adventure', 'Puzzle']   \n",
       "\n",
       "                                                Summary  \\\n",
       "Id                                                        \n",
       "0     Elden Ring is a fantasy, action and open world...   \n",
       "1     A rogue-lite hack and slash dungeon crawler in...   \n",
       "2     The Legend of Zelda: Breath of the Wild is the...   \n",
       "3     A small child falls into the Underground, wher...   \n",
       "4     A 2D metroidvania with an emphasis on close co...   \n",
       "...                                                 ...   \n",
       "1507  Back to the Future: The Game is one of Telltal...   \n",
       "1508  Team Sonic Racing combines the best elements o...   \n",
       "1509  Set in a huge open world, Dragon’s Dogma: Dark...   \n",
       "1510  An ancient evil has returned to Baldur's Gate,...   \n",
       "1511  Join Emmet and an unlikely group of resistance...   \n",
       "\n",
       "                                                Reviews Plays Playing  \\\n",
       "Id                                                                      \n",
       "0     [\"The first playthrough of elden ring is one o...   17K    3.8K   \n",
       "1     ['convinced this is a roguelike for people who...   21K    3.2K   \n",
       "2     ['This game is the game (that is not CS:GO) th...   30K    2.5K   \n",
       "3     ['soundtrack is tied for #1 with nier automata...   28K     679   \n",
       "4     [\"this games worldbuilding is incredible, with...   21K    2.4K   \n",
       "...                                                 ...   ...     ...   \n",
       "1507  ['Very enjoyable game. The story adds onto the...   763       5   \n",
       "1508  ['jogo morto mas bom', 'not my cup of tea', \"C...  1.5K      49   \n",
       "1509  ['Underrated.', 'A grandes rasgos, es como un ...  1.1K      45   \n",
       "1510  ['Bu türe bu oyunla girmeye çalışmak hataydı s...   269      79   \n",
       "1511  ['Legal', 'Pretty Average Lego Game But It Was...  1.7K      11   \n",
       "\n",
       "     Backlogs Wishlist  \n",
       "Id                      \n",
       "0        4.6K     4.8K  \n",
       "1        6.3K     3.6K  \n",
       "2          5K     2.6K  \n",
       "3        4.9K     1.8K  \n",
       "4        8.3K     2.3K  \n",
       "...       ...      ...  \n",
       "1507      223       67  \n",
       "1508      413      107  \n",
       "1509      487      206  \n",
       "1510      388      602  \n",
       "1511      239       73  \n",
       "\n",
       "[1512 rows x 13 columns]>"
      ]
     },
     "execution_count": 43,
     "metadata": {},
     "output_type": "execute_result"
    }
   ],
   "source": [
    "datos.isnull \n"
   ]
  },
  {
   "attachments": {},
   "cell_type": "markdown",
   "metadata": {},
   "source": [
    "Columnas con datos nulos "
   ]
  },
  {
   "cell_type": "code",
   "execution_count": 44,
   "metadata": {},
   "outputs": [
    {
     "data": {
      "text/plain": [
       "Title                False\n",
       "Release Date         False\n",
       "Team                  True\n",
       "Rating                True\n",
       "Times Listed         False\n",
       "Number of Reviews    False\n",
       "Genres               False\n",
       "Summary               True\n",
       "Reviews              False\n",
       "Plays                False\n",
       "Playing              False\n",
       "Backlogs             False\n",
       "Wishlist             False\n",
       "dtype: bool"
      ]
     },
     "execution_count": 44,
     "metadata": {},
     "output_type": "execute_result"
    }
   ],
   "source": [
    "datos.isnull().any()"
   ]
  },
  {
   "attachments": {},
   "cell_type": "markdown",
   "metadata": {},
   "source": [
    "filas especificas con datos nuelo\n"
   ]
  },
  {
   "cell_type": "code",
   "execution_count": 45,
   "metadata": {},
   "outputs": [
    {
     "name": "stdout",
     "output_type": "stream",
     "text": [
      "                                                  Title     Release Date  \\\n",
      "Id                                                                         \n",
      "587                                   Final Fantasy XVI     Jun 22, 2023   \n",
      "649                                   Death Stranding 2  releases on TBD   \n",
      "713                           Final Fantasy VII Rebirth     Dec 31, 2023   \n",
      "719                                           Lies of P     Aug 01, 2023   \n",
      "726                                               Judas     Mar 31, 2025   \n",
      "746   Like a Dragon Gaiden: The Man Who Erased His Name     Dec 31, 2023   \n",
      "972           The Legend of Zelda: Tears of the Kingdom     May 12, 2023   \n",
      "1130                           Star Wars Jedi: Survivor     Apr 28, 2023   \n",
      "1160            We Love Katamari Reroll + Royal Reverie     Jun 02, 2023   \n",
      "1202                                         Earthblade     Dec 31, 2024   \n",
      "1245                               NEET Girl Date Night     Oct 21, 2022   \n",
      "1305                                          Diablo IV     Jun 06, 2023   \n",
      "1341                                   Pac-Man in a Tin     Mar 22, 2023   \n",
      "1349                                       Pokémon Añil     Mar 23, 2023   \n",
      "\n",
      "                                                   Team  Rating Times Listed  \\\n",
      "Id                                                                             \n",
      "587   ['Square Enix', 'Square Enix Creative Business...     NaN          422   \n",
      "649                              ['Kojima Productions']     NaN          105   \n",
      "713                                     ['Square Enix']     NaN          192   \n",
      "719                         ['NEOWIZ', 'Round8 Studio']     NaN          175   \n",
      "726                               ['Ghost Story Games']     NaN           90   \n",
      "746                   ['Ryū Ga Gotoku Studios', 'Sega']     NaN          118   \n",
      "972   ['Nintendo', 'Nintendo EPD Production Group No...     NaN          581   \n",
      "1130       ['Respawn Entertainment', 'Electronic Arts']     NaN          250   \n",
      "1160  ['Bandai Namco Entertainment', 'MONKEYCRAFT Co...     NaN           51   \n",
      "1202                             ['Extremely OK Games']     NaN           83   \n",
      "1245                                                NaN     2.7           21   \n",
      "1305                         ['Blizzard Entertainment']     NaN          148   \n",
      "1341                                 ['Fizz Creations']     NaN            0   \n",
      "1349                                      ['Eric Lost']     NaN            2   \n",
      "\n",
      "     Number of Reviews                           Genres  \\\n",
      "Id                                                        \n",
      "587                422                          ['RPG']   \n",
      "649                105         ['Adventure', 'Shooter']   \n",
      "713                192                               []   \n",
      "719                175                          ['RPG']   \n",
      "726                 90         ['Adventure', 'Shooter']   \n",
      "746                118  ['Adventure', 'Brawler', 'RPG']   \n",
      "972                581             ['Adventure', 'RPG']   \n",
      "1130               250                    ['Adventure']   \n",
      "1160                51          ['Adventure', 'Puzzle']   \n",
      "1202                83    ['Adventure', 'Indie', 'RPG']   \n",
      "1245                21                 ['Visual Novel']   \n",
      "1305               148               ['Brawler', 'RPG']   \n",
      "1341                 0                       ['Arcade']   \n",
      "1349                 2                          ['RPG']   \n",
      "\n",
      "                                                Summary  \\\n",
      "Id                                                        \n",
      "587   Final Fantasy XVI is an upcoming action role-p...   \n",
      "649                                                 NaN   \n",
      "713   This next standalone chapter in the FINAL FANT...   \n",
      "719   Inspired by the familiar story of Pinocchio, L...   \n",
      "726   A disintegrating starship. A desperate escape ...   \n",
      "746   This game covers Kiryu's story between Yakuza ...   \n",
      "972   The Legend of Zelda: Tears of the Kingdom is t...   \n",
      "1130  The story of Cal Kestis continues in Star Wars...   \n",
      "1160  We Love Katamari Reroll + Royal Reverie is a r...   \n",
      "1202  You are Névoa, an enigmatic child of Fate retu...   \n",
      "1245  Your friend sets you up on a date with his NEE...   \n",
      "1305  Endless demons to slaughter. Deep customizatio...   \n",
      "1341  Pac-Man in a Tin is a pocket-sized tin contain...   \n",
      "1349  Pokémon Añil is the fourth video game created ...   \n",
      "\n",
      "                                                Reviews Plays Playing  \\\n",
      "Id                                                                      \n",
      "587                                                  []    37      10   \n",
      "649                                                  []     3       0   \n",
      "713                                                  []    20       3   \n",
      "719                                                  []     5       0   \n",
      "726                                                  []     1       0   \n",
      "746                                                  []     2       1   \n",
      "972                                                  []    72       6   \n",
      "1130                                                 []    13       2   \n",
      "1160                                                 []     3       0   \n",
      "1202                                                 []     0       1   \n",
      "1245  ['this sucked. \"Omg she is literally me\" is no...   106       1   \n",
      "1305                                                 []    19      10   \n",
      "1341                                                 []     1       0   \n",
      "1349  ['pokemon HWHAT', 'Finally, after all these ye...     1       0   \n",
      "\n",
      "     Backlogs Wishlist  \n",
      "Id                      \n",
      "587       732     2.4K  \n",
      "649       209      644  \n",
      "713       354     1.1K  \n",
      "719       260      939  \n",
      "726        92      437  \n",
      "746       145      588  \n",
      "972      1.6K     5.4K  \n",
      "1130      367     1.4K  \n",
      "1160       74      291  \n",
      "1202      103      529  \n",
      "1245       44       42  \n",
      "1305      179      677  \n",
      "1341        1        2  \n",
      "1349        1        7  \n"
     ]
    }
   ],
   "source": [
    "filas_nulas = datos[datos.isnull().any(axis=1)]\n",
    "print(filas_nulas)"
   ]
  },
  {
   "cell_type": "code",
   "execution_count": 46,
   "metadata": {},
   "outputs": [
    {
     "data": {
      "text/html": [
       "<div>\n",
       "<style scoped>\n",
       "    .dataframe tbody tr th:only-of-type {\n",
       "        vertical-align: middle;\n",
       "    }\n",
       "\n",
       "    .dataframe tbody tr th {\n",
       "        vertical-align: top;\n",
       "    }\n",
       "\n",
       "    .dataframe thead th {\n",
       "        text-align: right;\n",
       "    }\n",
       "</style>\n",
       "<table border=\"1\" class=\"dataframe\">\n",
       "  <thead>\n",
       "    <tr style=\"text-align: right;\">\n",
       "      <th></th>\n",
       "      <th>Title</th>\n",
       "      <th>Release Date</th>\n",
       "      <th>Team</th>\n",
       "      <th>Rating</th>\n",
       "      <th>Times Listed</th>\n",
       "      <th>Number of Reviews</th>\n",
       "      <th>Genres</th>\n",
       "      <th>Summary</th>\n",
       "      <th>Reviews</th>\n",
       "      <th>Plays</th>\n",
       "      <th>Playing</th>\n",
       "      <th>Backlogs</th>\n",
       "      <th>Wishlist</th>\n",
       "    </tr>\n",
       "    <tr>\n",
       "      <th>Id</th>\n",
       "      <th></th>\n",
       "      <th></th>\n",
       "      <th></th>\n",
       "      <th></th>\n",
       "      <th></th>\n",
       "      <th></th>\n",
       "      <th></th>\n",
       "      <th></th>\n",
       "      <th></th>\n",
       "      <th></th>\n",
       "      <th></th>\n",
       "      <th></th>\n",
       "      <th></th>\n",
       "    </tr>\n",
       "  </thead>\n",
       "  <tbody>\n",
       "    <tr>\n",
       "      <th>0</th>\n",
       "      <td>Elden Ring</td>\n",
       "      <td>Feb 25, 2022</td>\n",
       "      <td>['Bandai Namco Entertainment', 'FromSoftware']</td>\n",
       "      <td>4.5</td>\n",
       "      <td>3.9K</td>\n",
       "      <td>3.9K</td>\n",
       "      <td>['Adventure', 'RPG']</td>\n",
       "      <td>Elden Ring is a fantasy, action and open world...</td>\n",
       "      <td>[\"The first playthrough of elden ring is one o...</td>\n",
       "      <td>17K</td>\n",
       "      <td>3.8K</td>\n",
       "      <td>4.6K</td>\n",
       "      <td>4.8K</td>\n",
       "    </tr>\n",
       "    <tr>\n",
       "      <th>1</th>\n",
       "      <td>Hades</td>\n",
       "      <td>Dec 10, 2019</td>\n",
       "      <td>['Supergiant Games']</td>\n",
       "      <td>4.3</td>\n",
       "      <td>2.9K</td>\n",
       "      <td>2.9K</td>\n",
       "      <td>['Adventure', 'Brawler', 'Indie', 'RPG']</td>\n",
       "      <td>A rogue-lite hack and slash dungeon crawler in...</td>\n",
       "      <td>['convinced this is a roguelike for people who...</td>\n",
       "      <td>21K</td>\n",
       "      <td>3.2K</td>\n",
       "      <td>6.3K</td>\n",
       "      <td>3.6K</td>\n",
       "    </tr>\n",
       "    <tr>\n",
       "      <th>2</th>\n",
       "      <td>The Legend of Zelda: Breath of the Wild</td>\n",
       "      <td>Mar 03, 2017</td>\n",
       "      <td>['Nintendo', 'Nintendo EPD Production Group No...</td>\n",
       "      <td>4.4</td>\n",
       "      <td>4.3K</td>\n",
       "      <td>4.3K</td>\n",
       "      <td>['Adventure', 'RPG']</td>\n",
       "      <td>The Legend of Zelda: Breath of the Wild is the...</td>\n",
       "      <td>['This game is the game (that is not CS:GO) th...</td>\n",
       "      <td>30K</td>\n",
       "      <td>2.5K</td>\n",
       "      <td>5K</td>\n",
       "      <td>2.6K</td>\n",
       "    </tr>\n",
       "    <tr>\n",
       "      <th>3</th>\n",
       "      <td>Undertale</td>\n",
       "      <td>Sep 15, 2015</td>\n",
       "      <td>['tobyfox', '8-4']</td>\n",
       "      <td>4.2</td>\n",
       "      <td>3.5K</td>\n",
       "      <td>3.5K</td>\n",
       "      <td>['Adventure', 'Indie', 'RPG', 'Turn Based Stra...</td>\n",
       "      <td>A small child falls into the Underground, wher...</td>\n",
       "      <td>['soundtrack is tied for #1 with nier automata...</td>\n",
       "      <td>28K</td>\n",
       "      <td>679</td>\n",
       "      <td>4.9K</td>\n",
       "      <td>1.8K</td>\n",
       "    </tr>\n",
       "    <tr>\n",
       "      <th>4</th>\n",
       "      <td>Hollow Knight</td>\n",
       "      <td>Feb 24, 2017</td>\n",
       "      <td>['Team Cherry']</td>\n",
       "      <td>4.4</td>\n",
       "      <td>3K</td>\n",
       "      <td>3K</td>\n",
       "      <td>['Adventure', 'Indie', 'Platform']</td>\n",
       "      <td>A 2D metroidvania with an emphasis on close co...</td>\n",
       "      <td>[\"this games worldbuilding is incredible, with...</td>\n",
       "      <td>21K</td>\n",
       "      <td>2.4K</td>\n",
       "      <td>8.3K</td>\n",
       "      <td>2.3K</td>\n",
       "    </tr>\n",
       "    <tr>\n",
       "      <th>...</th>\n",
       "      <td>...</td>\n",
       "      <td>...</td>\n",
       "      <td>...</td>\n",
       "      <td>...</td>\n",
       "      <td>...</td>\n",
       "      <td>...</td>\n",
       "      <td>...</td>\n",
       "      <td>...</td>\n",
       "      <td>...</td>\n",
       "      <td>...</td>\n",
       "      <td>...</td>\n",
       "      <td>...</td>\n",
       "      <td>...</td>\n",
       "    </tr>\n",
       "    <tr>\n",
       "      <th>1507</th>\n",
       "      <td>Back to the Future: The Game</td>\n",
       "      <td>Dec 22, 2010</td>\n",
       "      <td>['Telltale Games']</td>\n",
       "      <td>3.2</td>\n",
       "      <td>94</td>\n",
       "      <td>94</td>\n",
       "      <td>['Adventure', 'Point-and-Click']</td>\n",
       "      <td>Back to the Future: The Game is one of Telltal...</td>\n",
       "      <td>['Very enjoyable game. The story adds onto the...</td>\n",
       "      <td>763</td>\n",
       "      <td>5</td>\n",
       "      <td>223</td>\n",
       "      <td>67</td>\n",
       "    </tr>\n",
       "    <tr>\n",
       "      <th>1508</th>\n",
       "      <td>Team Sonic Racing</td>\n",
       "      <td>May 21, 2019</td>\n",
       "      <td>['Sumo Digital', 'Sega']</td>\n",
       "      <td>2.9</td>\n",
       "      <td>264</td>\n",
       "      <td>264</td>\n",
       "      <td>['Arcade', 'Racing']</td>\n",
       "      <td>Team Sonic Racing combines the best elements o...</td>\n",
       "      <td>['jogo morto mas bom', 'not my cup of tea', \"C...</td>\n",
       "      <td>1.5K</td>\n",
       "      <td>49</td>\n",
       "      <td>413</td>\n",
       "      <td>107</td>\n",
       "    </tr>\n",
       "    <tr>\n",
       "      <th>1509</th>\n",
       "      <td>Dragon's Dogma</td>\n",
       "      <td>May 22, 2012</td>\n",
       "      <td>['Capcom']</td>\n",
       "      <td>3.7</td>\n",
       "      <td>210</td>\n",
       "      <td>210</td>\n",
       "      <td>['Brawler', 'RPG']</td>\n",
       "      <td>Set in a huge open world, Dragon’s Dogma: Dark...</td>\n",
       "      <td>['Underrated.', 'A grandes rasgos, es como un ...</td>\n",
       "      <td>1.1K</td>\n",
       "      <td>45</td>\n",
       "      <td>487</td>\n",
       "      <td>206</td>\n",
       "    </tr>\n",
       "    <tr>\n",
       "      <th>1510</th>\n",
       "      <td>Baldur's Gate 3</td>\n",
       "      <td>Oct 06, 2020</td>\n",
       "      <td>['Larian Studios']</td>\n",
       "      <td>4.1</td>\n",
       "      <td>165</td>\n",
       "      <td>165</td>\n",
       "      <td>['Adventure', 'RPG', 'Strategy', 'Tactical', '...</td>\n",
       "      <td>An ancient evil has returned to Baldur's Gate,...</td>\n",
       "      <td>['Bu türe bu oyunla girmeye çalışmak hataydı s...</td>\n",
       "      <td>269</td>\n",
       "      <td>79</td>\n",
       "      <td>388</td>\n",
       "      <td>602</td>\n",
       "    </tr>\n",
       "    <tr>\n",
       "      <th>1511</th>\n",
       "      <td>The LEGO Movie Videogame</td>\n",
       "      <td>Feb 04, 2014</td>\n",
       "      <td>['WB Games', 'TT Fusion']</td>\n",
       "      <td>2.8</td>\n",
       "      <td>184</td>\n",
       "      <td>184</td>\n",
       "      <td>['Adventure', 'Puzzle']</td>\n",
       "      <td>Join Emmet and an unlikely group of resistance...</td>\n",
       "      <td>['Legal', 'Pretty Average Lego Game But It Was...</td>\n",
       "      <td>1.7K</td>\n",
       "      <td>11</td>\n",
       "      <td>239</td>\n",
       "      <td>73</td>\n",
       "    </tr>\n",
       "  </tbody>\n",
       "</table>\n",
       "<p>1498 rows × 13 columns</p>\n",
       "</div>"
      ],
      "text/plain": [
       "                                        Title  Release Date  \\\n",
       "Id                                                            \n",
       "0                                  Elden Ring  Feb 25, 2022   \n",
       "1                                       Hades  Dec 10, 2019   \n",
       "2     The Legend of Zelda: Breath of the Wild  Mar 03, 2017   \n",
       "3                                   Undertale  Sep 15, 2015   \n",
       "4                               Hollow Knight  Feb 24, 2017   \n",
       "...                                       ...           ...   \n",
       "1507             Back to the Future: The Game  Dec 22, 2010   \n",
       "1508                        Team Sonic Racing  May 21, 2019   \n",
       "1509                           Dragon's Dogma  May 22, 2012   \n",
       "1510                          Baldur's Gate 3  Oct 06, 2020   \n",
       "1511                 The LEGO Movie Videogame  Feb 04, 2014   \n",
       "\n",
       "                                                   Team  Rating Times Listed  \\\n",
       "Id                                                                             \n",
       "0        ['Bandai Namco Entertainment', 'FromSoftware']     4.5         3.9K   \n",
       "1                                  ['Supergiant Games']     4.3         2.9K   \n",
       "2     ['Nintendo', 'Nintendo EPD Production Group No...     4.4         4.3K   \n",
       "3                                    ['tobyfox', '8-4']     4.2         3.5K   \n",
       "4                                       ['Team Cherry']     4.4           3K   \n",
       "...                                                 ...     ...          ...   \n",
       "1507                                 ['Telltale Games']     3.2           94   \n",
       "1508                           ['Sumo Digital', 'Sega']     2.9          264   \n",
       "1509                                         ['Capcom']     3.7          210   \n",
       "1510                                 ['Larian Studios']     4.1          165   \n",
       "1511                          ['WB Games', 'TT Fusion']     2.8          184   \n",
       "\n",
       "     Number of Reviews                                             Genres  \\\n",
       "Id                                                                          \n",
       "0                 3.9K                               ['Adventure', 'RPG']   \n",
       "1                 2.9K           ['Adventure', 'Brawler', 'Indie', 'RPG']   \n",
       "2                 4.3K                               ['Adventure', 'RPG']   \n",
       "3                 3.5K  ['Adventure', 'Indie', 'RPG', 'Turn Based Stra...   \n",
       "4                   3K                 ['Adventure', 'Indie', 'Platform']   \n",
       "...                ...                                                ...   \n",
       "1507                94                   ['Adventure', 'Point-and-Click']   \n",
       "1508               264                               ['Arcade', 'Racing']   \n",
       "1509               210                                 ['Brawler', 'RPG']   \n",
       "1510               165  ['Adventure', 'RPG', 'Strategy', 'Tactical', '...   \n",
       "1511               184                            ['Adventure', 'Puzzle']   \n",
       "\n",
       "                                                Summary  \\\n",
       "Id                                                        \n",
       "0     Elden Ring is a fantasy, action and open world...   \n",
       "1     A rogue-lite hack and slash dungeon crawler in...   \n",
       "2     The Legend of Zelda: Breath of the Wild is the...   \n",
       "3     A small child falls into the Underground, wher...   \n",
       "4     A 2D metroidvania with an emphasis on close co...   \n",
       "...                                                 ...   \n",
       "1507  Back to the Future: The Game is one of Telltal...   \n",
       "1508  Team Sonic Racing combines the best elements o...   \n",
       "1509  Set in a huge open world, Dragon’s Dogma: Dark...   \n",
       "1510  An ancient evil has returned to Baldur's Gate,...   \n",
       "1511  Join Emmet and an unlikely group of resistance...   \n",
       "\n",
       "                                                Reviews Plays Playing  \\\n",
       "Id                                                                      \n",
       "0     [\"The first playthrough of elden ring is one o...   17K    3.8K   \n",
       "1     ['convinced this is a roguelike for people who...   21K    3.2K   \n",
       "2     ['This game is the game (that is not CS:GO) th...   30K    2.5K   \n",
       "3     ['soundtrack is tied for #1 with nier automata...   28K     679   \n",
       "4     [\"this games worldbuilding is incredible, with...   21K    2.4K   \n",
       "...                                                 ...   ...     ...   \n",
       "1507  ['Very enjoyable game. The story adds onto the...   763       5   \n",
       "1508  ['jogo morto mas bom', 'not my cup of tea', \"C...  1.5K      49   \n",
       "1509  ['Underrated.', 'A grandes rasgos, es como un ...  1.1K      45   \n",
       "1510  ['Bu türe bu oyunla girmeye çalışmak hataydı s...   269      79   \n",
       "1511  ['Legal', 'Pretty Average Lego Game But It Was...  1.7K      11   \n",
       "\n",
       "     Backlogs Wishlist  \n",
       "Id                      \n",
       "0        4.6K     4.8K  \n",
       "1        6.3K     3.6K  \n",
       "2          5K     2.6K  \n",
       "3        4.9K     1.8K  \n",
       "4        8.3K     2.3K  \n",
       "...       ...      ...  \n",
       "1507      223       67  \n",
       "1508      413      107  \n",
       "1509      487      206  \n",
       "1510      388      602  \n",
       "1511      239       73  \n",
       "\n",
       "[1498 rows x 13 columns]"
      ]
     },
     "execution_count": 46,
     "metadata": {},
     "output_type": "execute_result"
    }
   ],
   "source": [
    "data_sin_nulos = datos.dropna()\n",
    "data_sin_nulos"
   ]
  },
  {
   "attachments": {},
   "cell_type": "markdown",
   "metadata": {},
   "source": [
    "eliminando los datos nulos del dtaset (arriba)\n"
   ]
  },
  {
   "attachments": {},
   "cell_type": "markdown",
   "metadata": {},
   "source": [
    "\n",
    "funcion para verificar si el genero rpg esta en la lista \n"
   ]
  },
  {
   "cell_type": "code",
   "execution_count": 48,
   "metadata": {},
   "outputs": [
    {
     "data": {
      "text/html": [
       "<div>\n",
       "<style scoped>\n",
       "    .dataframe tbody tr th:only-of-type {\n",
       "        vertical-align: middle;\n",
       "    }\n",
       "\n",
       "    .dataframe tbody tr th {\n",
       "        vertical-align: top;\n",
       "    }\n",
       "\n",
       "    .dataframe thead th {\n",
       "        text-align: right;\n",
       "    }\n",
       "</style>\n",
       "<table border=\"1\" class=\"dataframe\">\n",
       "  <thead>\n",
       "    <tr style=\"text-align: right;\">\n",
       "      <th></th>\n",
       "      <th>Title</th>\n",
       "      <th>Rating</th>\n",
       "    </tr>\n",
       "    <tr>\n",
       "      <th>Id</th>\n",
       "      <th></th>\n",
       "      <th></th>\n",
       "    </tr>\n",
       "  </thead>\n",
       "  <tbody>\n",
       "    <tr>\n",
       "      <th>0</th>\n",
       "      <td>Elden Ring</td>\n",
       "      <td>4.5</td>\n",
       "    </tr>\n",
       "    <tr>\n",
       "      <th>1</th>\n",
       "      <td>Hades</td>\n",
       "      <td>4.3</td>\n",
       "    </tr>\n",
       "    <tr>\n",
       "      <th>2</th>\n",
       "      <td>The Legend of Zelda: Breath of the Wild</td>\n",
       "      <td>4.4</td>\n",
       "    </tr>\n",
       "    <tr>\n",
       "      <th>3</th>\n",
       "      <td>Undertale</td>\n",
       "      <td>4.2</td>\n",
       "    </tr>\n",
       "    <tr>\n",
       "      <th>6</th>\n",
       "      <td>Omori</td>\n",
       "      <td>4.2</td>\n",
       "    </tr>\n",
       "    <tr>\n",
       "      <th>9</th>\n",
       "      <td>NieR: Automata</td>\n",
       "      <td>4.3</td>\n",
       "    </tr>\n",
       "    <tr>\n",
       "      <th>10</th>\n",
       "      <td>Persona 5 Royal</td>\n",
       "      <td>4.4</td>\n",
       "    </tr>\n",
       "    <tr>\n",
       "      <th>12</th>\n",
       "      <td>God of War</td>\n",
       "      <td>4.2</td>\n",
       "    </tr>\n",
       "    <tr>\n",
       "      <th>14</th>\n",
       "      <td>Bloodborne</td>\n",
       "      <td>4.5</td>\n",
       "    </tr>\n",
       "    <tr>\n",
       "      <th>16</th>\n",
       "      <td>Yakuza 0</td>\n",
       "      <td>4.4</td>\n",
       "    </tr>\n",
       "  </tbody>\n",
       "</table>\n",
       "</div>"
      ],
      "text/plain": [
       "                                      Title  Rating\n",
       "Id                                                 \n",
       "0                                Elden Ring     4.5\n",
       "1                                     Hades     4.3\n",
       "2   The Legend of Zelda: Breath of the Wild     4.4\n",
       "3                                 Undertale     4.2\n",
       "6                                     Omori     4.2\n",
       "9                            NieR: Automata     4.3\n",
       "10                          Persona 5 Royal     4.4\n",
       "12                               God of War     4.2\n",
       "14                               Bloodborne     4.5\n",
       "16                                 Yakuza 0     4.4"
      ]
     },
     "execution_count": 48,
     "metadata": {},
     "output_type": "execute_result"
    }
   ],
   "source": [
    "def filtro_rpg(genres):\n",
    "    return 'RPG' in genres\n",
    "\n",
    "#no ocupar este dataset ya esta bueno \n",
    "\n",
    "datosRPG = data_sin_nulos[data_sin_nulos['Genres'].apply(filtro_rpg)]\n",
    "\n",
    "nombresRPG = datosRPG [['Title' , 'Rating']]\n",
    "nombresRPG.head(10)\n",
    "\n"
   ]
  },
  {
   "attachments": {},
   "cell_type": "markdown",
   "metadata": {},
   "source": [
    "Informacion del dataset ya filtrado"
   ]
  },
  {
   "cell_type": "code",
   "execution_count": 49,
   "metadata": {},
   "outputs": [
    {
     "name": "stdout",
     "output_type": "stream",
     "text": [
      "<class 'pandas.core.frame.DataFrame'>\n",
      "Index: 516 entries, 0 to 1510\n",
      "Data columns (total 2 columns):\n",
      " #   Column  Non-Null Count  Dtype  \n",
      "---  ------  --------------  -----  \n",
      " 0   Title   516 non-null    object \n",
      " 1   Rating  516 non-null    float64\n",
      "dtypes: float64(1), object(1)\n",
      "memory usage: 12.1+ KB\n"
     ]
    }
   ],
   "source": [
    "nombresRPG.info()"
   ]
  },
  {
   "attachments": {},
   "cell_type": "markdown",
   "metadata": {},
   "source": [
    "identificando si existen datos nulos en el nuevo dataset"
   ]
  },
  {
   "cell_type": "code",
   "execution_count": 50,
   "metadata": {},
   "outputs": [
    {
     "data": {
      "text/html": [
       "<div>\n",
       "<style scoped>\n",
       "    .dataframe tbody tr th:only-of-type {\n",
       "        vertical-align: middle;\n",
       "    }\n",
       "\n",
       "    .dataframe tbody tr th {\n",
       "        vertical-align: top;\n",
       "    }\n",
       "\n",
       "    .dataframe thead th {\n",
       "        text-align: right;\n",
       "    }\n",
       "</style>\n",
       "<table border=\"1\" class=\"dataframe\">\n",
       "  <thead>\n",
       "    <tr style=\"text-align: right;\">\n",
       "      <th></th>\n",
       "      <th>Title</th>\n",
       "      <th>Rating</th>\n",
       "    </tr>\n",
       "    <tr>\n",
       "      <th>Id</th>\n",
       "      <th></th>\n",
       "      <th></th>\n",
       "    </tr>\n",
       "  </thead>\n",
       "  <tbody>\n",
       "    <tr>\n",
       "      <th>0</th>\n",
       "      <td>False</td>\n",
       "      <td>False</td>\n",
       "    </tr>\n",
       "    <tr>\n",
       "      <th>1</th>\n",
       "      <td>False</td>\n",
       "      <td>False</td>\n",
       "    </tr>\n",
       "    <tr>\n",
       "      <th>2</th>\n",
       "      <td>False</td>\n",
       "      <td>False</td>\n",
       "    </tr>\n",
       "    <tr>\n",
       "      <th>3</th>\n",
       "      <td>False</td>\n",
       "      <td>False</td>\n",
       "    </tr>\n",
       "    <tr>\n",
       "      <th>6</th>\n",
       "      <td>False</td>\n",
       "      <td>False</td>\n",
       "    </tr>\n",
       "    <tr>\n",
       "      <th>...</th>\n",
       "      <td>...</td>\n",
       "      <td>...</td>\n",
       "    </tr>\n",
       "    <tr>\n",
       "      <th>1487</th>\n",
       "      <td>False</td>\n",
       "      <td>False</td>\n",
       "    </tr>\n",
       "    <tr>\n",
       "      <th>1489</th>\n",
       "      <td>False</td>\n",
       "      <td>False</td>\n",
       "    </tr>\n",
       "    <tr>\n",
       "      <th>1500</th>\n",
       "      <td>False</td>\n",
       "      <td>False</td>\n",
       "    </tr>\n",
       "    <tr>\n",
       "      <th>1509</th>\n",
       "      <td>False</td>\n",
       "      <td>False</td>\n",
       "    </tr>\n",
       "    <tr>\n",
       "      <th>1510</th>\n",
       "      <td>False</td>\n",
       "      <td>False</td>\n",
       "    </tr>\n",
       "  </tbody>\n",
       "</table>\n",
       "<p>516 rows × 2 columns</p>\n",
       "</div>"
      ],
      "text/plain": [
       "      Title  Rating\n",
       "Id                 \n",
       "0     False   False\n",
       "1     False   False\n",
       "2     False   False\n",
       "3     False   False\n",
       "6     False   False\n",
       "...     ...     ...\n",
       "1487  False   False\n",
       "1489  False   False\n",
       "1500  False   False\n",
       "1509  False   False\n",
       "1510  False   False\n",
       "\n",
       "[516 rows x 2 columns]"
      ]
     },
     "execution_count": 50,
     "metadata": {},
     "output_type": "execute_result"
    }
   ],
   "source": [
    "nombresRPG.isnull()"
   ]
  },
  {
   "attachments": {},
   "cell_type": "markdown",
   "metadata": {},
   "source": [
    "mostrando los 10 primeros videojuegos RPG y su rating de popularidad"
   ]
  },
  {
   "cell_type": "code",
   "execution_count": 51,
   "metadata": {},
   "outputs": [
    {
     "data": {
      "text/plain": [
       "<Axes: xlabel='Id'>"
      ]
     },
     "execution_count": 51,
     "metadata": {},
     "output_type": "execute_result"
    },
    {
     "data": {
      "image/png": "[encoded data removed]",
      "text/plain": [
       "<Figure size 640x480 with 1 Axes>"
      ]
     },
     "metadata": {},
     "output_type": "display_data"
    }
   ],
   "source": [
    "datasetRPG = nombresRPG.head(10)\n",
    "datasetRPG.drop(['Title'],axis=1)['Rating'].plot(kind='bar')\n"
   ]
  },
  {
   "cell_type": "code",
   "execution_count": null,
   "metadata": {},
   "outputs": [],
   "source": []
  },
  {
   "attachments": {},
   "cell_type": "markdown",
   "metadata": {},
   "source": [
    "mostrando losprimeros 30 videojuegos "
   ]
  },
  {
   "cell_type": "code",
   "execution_count": 52,
   "metadata": {},
   "outputs": [
    {
     "data": {
      "text/plain": [
       "<Axes: xlabel='Title'>"
      ]
     },
     "execution_count": 52,
     "metadata": {},
     "output_type": "execute_result"
    },
    {
     "data": {
      "image/png": "[encoded data removed]",
      "text/plain": [
       "<Figure size 640x480 with 1 Axes>"
      ]
     },
     "metadata": {},
     "output_type": "display_data"
    }
   ],
   "source": [
    "datasetRPG = nombresRPG.head(30)\n",
    "datasetRPG.set_index('Title', inplace=True) \n",
    "datasetRPG['Rating'].plot(x=None, kind='bar')"
   ]
  },
  {
   "cell_type": "code",
   "execution_count": 53,
   "metadata": {},
   "outputs": [
    {
     "data": {
      "image/png": "[encoded data removed]",
      "text/plain": [
       "<Figure size 640x480 with 1 Axes>"
      ]
     },
     "metadata": {},
     "output_type": "display_data"
    }
   ],
   "source": [
    "datasetRPG = nombresRPG.head(20)\n",
    "datasetRPG.set_index('Title', inplace=True)\n",
    "\n",
    "ax = datasetRPG['Rating'].plot(x=None, kind='bar')\n",
    "\n",
    "#Agregando etiquetas de rating en las barras\n",
    "for i, rating in enumerate(datasetRPG['Rating']):\n",
    "    ax.annotate(str(rating), xy=(i, rating), ha='center', va='bottom')\n",
    "\n",
    "plt.show()"
   ]
  },
  {
   "attachments": {},
   "cell_type": "markdown",
   "metadata": {},
   "source": [
    "PROMEDIO RATING VIDEOJUEGOS RPG"
   ]
  },
  {
   "cell_type": "code",
   "execution_count": 54,
   "metadata": {},
   "outputs": [
    {
     "data": {
      "text/plain": [
       "3.832558139534884"
      ]
     },
     "execution_count": 54,
     "metadata": {},
     "output_type": "execute_result"
    }
   ],
   "source": [
    "ratings_RPG = datos[datos['Genres'].apply(lambda x: 'RPG' in x)]['Rating']\n",
    "promedio_RPG = ratings_RPG.mean()\n",
    "\n",
    "promedio_RPG"
   ]
  },
  {
   "attachments": {},
   "cell_type": "markdown",
   "metadata": {},
   "source": [
    "PROMEDIO RATING VIDEOJUEGOS INDIE"
   ]
  },
  {
   "cell_type": "code",
   "execution_count": 55,
   "metadata": {},
   "outputs": [
    {
     "data": {
      "text/plain": [
       "3.7031802120141344"
      ]
     },
     "execution_count": 55,
     "metadata": {},
     "output_type": "execute_result"
    }
   ],
   "source": [
    "ratings_Indie = datos[datos['Genres'].apply(lambda x: 'Indie' in x)]['Rating']\n",
    "promedio_Indie = ratings_Indie.mean()\n",
    "\n",
    "promedio_Indie"
   ]
  },
  {
   "cell_type": "code",
   "execution_count": 57,
   "metadata": {},
   "outputs": [],
   "source": [
    "dataset_promedios = pd.DataFrame({'Género': ['RPG', 'Indie'], 'Promedio': [promedio_RPG, promedio_Indie]})"
   ]
  },
  {
   "cell_type": "code",
   "execution_count": 58,
   "metadata": {},
   "outputs": [
    {
     "data": {
      "image/png": "[encoded data removed]",
      "text/plain": [
       "<Figure size 640x480 with 1 Axes>"
      ]
     },
     "metadata": {},
     "output_type": "display_data"
    }
   ],
   "source": [
    "plt.pie(dataset_promedios['Promedio'], labels=dataset_promedios['Género'], autopct='%1.1f%%')\n",
    "plt.title('Promedio de Rating por Género')\n",
    "plt.show()"
   ]
  }
 ],
 "metadata": {
  "kernelspec": {
   "display_name": "Python 3",
   "language": "python",
   "name": "python3"
  },
  "language_info": {
   "codemirror_mode": {
    "name": "ipython",
    "version": 3
   },
   "file_extension": ".py",
   "mimetype": "text/x-python",
   "name": "python",
   "nbconvert_exporter": "python",
   "pygments_lexer": "ipython3",
   "version": "3.11.4"
  },
  "orig_nbformat": 4
 },
 "nbformat": 4,
 "nbformat_minor": 2
}
